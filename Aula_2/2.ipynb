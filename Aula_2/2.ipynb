{
 "cells": [
  {
   "cell_type": "markdown",
   "metadata": {},
   "source": [
    "# Seção 2 - Manipulando pixels em uma imagem\n",
    "\n",
    "## Exercício 1\n",
    "\n",
    "O código que realiza o a função do exercício encontra-se abaixo. O progama pede que o usuário entre com as coordenas $(x,y)$ de cada um dos dois pontos, em ordem. Então, ele checa quais desses valores é o maior, tanto para a coordenada $x$ como para a $y$, e faz as trocas necessárias para que a iamgem seja percorrida da maior para a menor posição.\n",
    "\n",
    "Em seguida, inicia-se o laço para realizar as operações nos pixels selecionados. Cada valor Vec3B(B,G,R), que contém as três componentes de cor de um pixel, é subtraido de um Vec3B(255,255,255), de forma a se obter o valor negativo de cada componente."
   ]
  },
  {
   "cell_type": "code",
   "execution_count": null,
   "metadata": {
    "collapsed": true
   },
   "outputs": [],
   "source": [
    "#include <iostream>\n",
    "#include <opencv2/opencv.hpp>\n",
    "#include <stdlib.h>\n",
    "\n",
    "using namespace cv;\n",
    "using namespace std;\n",
    "\n",
    "int main(int argc, char** argv){\n",
    "\n",
    "  Mat image;\n",
    "\n",
    "  int p1, p2, p3, p4, aux;\n",
    "  string path = \"/home/dan/opencv-3.4.1/scratch/images/\";\n",
    "  path.append(argv[1]);\n",
    "\n",
    "  \n",
    "  image= imread(path,IMREAD_COLOR);\n",
    "\n",
    "\n",
    "  if(!image.data){\n",
    "      cout << \"Erro ao abrir imagem.png\" << endl;\n",
    "  } else {\n",
    "\n",
    "  cout << \"Digite as coordenadas x e y, uma por vez, do primeiro ponto:\\n\";\n",
    "  cin >> p1;\n",
    "  cin >> p2;\n",
    "\n",
    "  cout << \"Digite as coordenadas x e y, uma por vez, do segundo ponto:\\n\";\n",
    "  cin >> p3;\n",
    "  cin >> p4;\n",
    "  \n",
    "  if (p1>p3){\n",
    "    aux = p3;\n",
    "    p3 = p1;\n",
    "    p1 = aux;\n",
    "  } \n",
    "\n",
    "  if (p2>p4){\n",
    "    aux = p4;\n",
    "    p4 = p2;\n",
    "    p2 = aux;\n",
    "  } \n",
    "\n",
    "    for(int i=p1;i<=p3;i++){\n",
    "     for(int j=p2;j<=p4;j++){\n",
    "       image.at<Vec3b>(i,j) = Vec3b(255,255,255) - image.at<Vec3b>(i,j);\n",
    "     }\n",
    "   }\n",
    "   \n",
    "    namedWindow(\"negativo\",WINDOW_KEEPRATIO);\n",
    "    imshow(\"negativo\", image);\n",
    "    imwrite(\"imagem_neagtivada.jpg\",image);\n",
    "    waitKey();\n",
    "\n",
    "  }\n",
    "\n",
    "return 0;\n",
    "}"
   ]
  },
  {
   "cell_type": "markdown",
   "metadata": {},
   "source": [
    "O resultado do código pode ser obsevado na imagem abaixo.\n",
    "\n",
    "![figura1](imagem_neagtivada.jpg)"
   ]
  },
  {
   "cell_type": "markdown",
   "metadata": {},
   "source": [
    "## Exercício 2\n",
    "\n",
    "Para realizar a troca, o código abaixo escaneia o primeiro quadrante da imagem (canto superior esquerdo), e realiza a troca de posição com os pixels do último quadrante (canto inferior direito) utilzando a informação de altura e largura da iamgem. O mesmo é feito depois para o canto inferior esquerdo e o canto superior direito da imagem."
   ]
  },
  {
   "cell_type": "code",
   "execution_count": null,
   "metadata": {
    "collapsed": true
   },
   "outputs": [],
   "source": [
    "#include <iostream>\n",
    "#include <opencv2/opencv.hpp>\n",
    "\n",
    "using namespace cv;\n",
    "using namespace std;\n",
    "\n",
    "int main(int argc, char** argv){\n",
    "\n",
    "  Mat image;\n",
    "  int width, height;\n",
    "  Vec3b aux;\n",
    "  // para pegar a imagem na pasta \"images\"\n",
    "  string path = \"/home/dan/opencv-3.4.1/scratch/images/\";\n",
    "  path.append(argv[1]);\n",
    "\n",
    "  image= imread(path,IMREAD_COLOR);\n",
    "\n",
    "  width=image.size().width;\n",
    "  height=image.size().height;\n",
    "\n",
    "\n",
    "  if(!image.data){\n",
    "      cout << \"Erro ao abrir imagem\" << endl;\n",
    "  } else {\n",
    "\n",
    "    for(int i=0;i<height/2;i++){\n",
    "     for(int j=0;j<width/2;j++){\n",
    "    aux = image.at<Vec3b>(i,j);\n",
    "    image.at<Vec3b>(i,j) = image.at<Vec3b>(i+height/2,j+width/2);\n",
    "    image.at<Vec3b>(i+height/2,j+width/2) = aux;\n",
    "     }\n",
    "    }\n",
    "\n",
    "    for(int i=height/2;i<height;i++){\n",
    "     for(int j=0;j<width/2;j++){\n",
    "        aux = image.at<Vec3b>(i,j);\n",
    "        image.at<Vec3b>(i,j) = image.at<Vec3b>(i-height/2,j+width/2);\n",
    "        image.at<Vec3b>(i-height/2,j+width/2) = aux;\n",
    "     }\n",
    "    }\n",
    "   \n",
    "    namedWindow(\"Troca Regioes\",WINDOW_NORMAL);\n",
    "    imshow(\"Troca Regioes\", image);\n",
    "    imwrite(\"imagem_trocada.jpg\",image);\n",
    "    waitKey();\n",
    "\n",
    "  }\n",
    "\n",
    "\n",
    "return 0;\n",
    "}"
   ]
  },
  {
   "cell_type": "markdown",
   "metadata": {},
   "source": [
    "#### Original:\n",
    "\n",
    "![figura2](berlin_wall.JPG)\n",
    "\n",
    "\n",
    "#### Resultado:\n",
    "\n",
    "![figura3](imagem_trocada.jpg)"
   ]
  }
 ],
 "metadata": {
  "kernelspec": {
   "display_name": "Python 3",
   "language": "python",
   "name": "python3"
  },
  "language_info": {
   "codemirror_mode": {
    "name": "ipython",
    "version": 3
   },
   "file_extension": ".py",
   "mimetype": "text/x-python",
   "name": "python",
   "nbconvert_exporter": "python",
   "pygments_lexer": "ipython3",
   "version": "3.4.5"
  }
 },
 "nbformat": 4,
 "nbformat_minor": 2
}
