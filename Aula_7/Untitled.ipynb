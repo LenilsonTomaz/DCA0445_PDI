{
 "cells": [
  {
   "cell_type": "markdown",
   "metadata": {},
   "source": [
    "# Seção 7 - Filtragem no domínio da frequência\n",
    "\n",
    "O filtro homomórfico busca simultâneamente melhorar o contraste e comprimir a faixa dinâmica de uma imagem. Pode se rusado, por exemplo, para remover problemas de iluminação excessiva numa cena.\n",
    "\n",
    "Para isto, esta técnica utiliza o fato que uma imagem pode ser representada pelo produto das matrizes de iluminação, i(x,y), e refletância, r(x,y):\n",
    "\n",
    "$$f(x,y) = i(x,y)r(x,y)$$\n",
    "\n",
    "Podemos separar estas componentes calculando o logaritimo de f(x,y). Assim, podemos aplicar um processo de filtragem individualmente nas matrizes i(x,y) e r(x,y). O componente de iluminação da iamgem é normalmente caracterizado por uma variação espacial baixa (a fonte de luz que ilumina uma cena nâo varia rapidamente), enquanto o componente de refletância costuma variar abruptamente (por exemplo, em bordas e nas junções de objetos diferentes).\n",
    "\n",
    "$$ z(x,y) = ln(f(x,y)) = ln(i(x,y)) + ln(r(x,y)) $$\n",
    "\n",
    "Aplicando a DFT, obtemos:\n",
    "\n",
    "$$ Z(u,v) = F\\{ln(i(x,y))\\} + F\\{ln(r(x,y))\\} = F_1(u,v) + F_2(u,v) $$\n",
    "\n",
    "Podemos, entâo aplicar um filtro H(u,v) na imagem, o qual é aplicado às componentes individualemnte. Em seguida, aplica-se a IDFT, e é desfeita a operação de logarítimo na imagem do dominío espacial utilizando uma exponencial.\n",
    "\n",
    "$$S(u,v) = H(u,v)Z(u,v) = F_1(u,v)H(u,v) + F_2(u,v)H(u,v)$$\n",
    "\n",
    "$$s(x,y) = F^{-1}\\{S(u,v)\\}$$\n",
    "\n",
    "$$r(x,y) = e^{s(x,y)}$$\n",
    "\n",
    "O filtro H(u,v) deve afetar as componentes de baixa e alta frequência de formas diferente, permitindo um maior controle sobre as componetnes de iluminação e refletância. Para se atenuar as freqûencias baixas e amplificar as freqûencias altas, pode-se usar uma forma modificada do filtro passa-altas Gaussiano:\n",
    "\n",
    "$$H(u,v) = (\\gamma_H - \\gamma_L)[1 - e^{-c(D²/(D_o)²)}] + \\gamma_L$$\n",
    "\n",
    "O parâmetro $D_{o}$ representa a frequência de corte do filtro, e controla a aquntidade de componentes de frequência que serão realçadas pelo filtro. $\\gamma_L$ e $\\gamma_H$ repsentam os limiares inferior e superior do filtro, e controlam a amplificação das componentes de baixa e alta frequência. A variável c controla a inclinação da curva, isto é, a suavidade do filtro.\n",
    "\n",
    "Com base no progama DFT.cpp, foi criado um progama que aplica o filtro homomórfico em uma imagem, permitindo variar $D_o$ , $\\gamma_L$ e $\\gamma_H$."
   ]
  },
  {
   "cell_type": "code",
   "execution_count": null,
   "metadata": {
    "collapsed": true
   },
   "outputs": [],
   "source": []
  }
 ],
 "metadata": {
  "kernelspec": {
   "display_name": "Python 3",
   "language": "python",
   "name": "python3"
  },
  "language_info": {
   "codemirror_mode": {
    "name": "ipython",
    "version": 3
   },
   "file_extension": ".py",
   "mimetype": "text/x-python",
   "name": "python",
   "nbconvert_exporter": "python",
   "pygments_lexer": "ipython3",
   "version": "3.4.5"
  }
 },
 "nbformat": 4,
 "nbformat_minor": 2
}
