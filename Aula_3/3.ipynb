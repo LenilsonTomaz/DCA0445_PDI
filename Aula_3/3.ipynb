{
 "cells": [
  {
   "cell_type": "markdown",
   "metadata": {},
   "source": [
    "# Seção 3 - Preenchendo regiões\n",
    "\n",
    "Como a intesidade 0 (preto) é usada para representar o fundo da cena, os 255 tons restante são usados para a contagem e rotulação. Para o caso de mais de 255 objetos, a ariavel de contagem sofrerá um _overflow_ e começará a contar do 0 novamente, causando a contagem e rotulação incorretas.\n",
    "\n",
    "Uma possível solução para este problema é trabalhar com imagens coloridas. Por exemplo, uma imagem RGB de 24 bits (8 bits em cada canal de cor), de forma que teremos $2^{24}-1$ rótulos disponíveis para classificar os obejtos.\n",
    "\n",
    "O código abaixo implementa esta solução, bem como um método para diferenciar obejtos com e sem buracos. Para isso, reseva-se um tom de cinza BGR = (253,255,255) para pintar o fundo, de forma que este é difrenciado dos buracos. Assim, quando o progama identifica um pixel preto, trata-se de um buraco e ele é preenchido com o rótulo BGR = (254,255,255), indicando que foi contabilizado na contagem.\n",
    "\n",
    "O progama também elimina os obejtos na borda da imagem pintando-a de branco e aplicando o preenchimento com o _seedfill_ com a cor de fundo. Este método causaria problemas se existissem obejtos que estão a 1 pixel de distância da borda. Neste caso, poderia-se fazer laços que percoressem cada borda eliminando individualmente cada objeto.\n",
    "\n",
    "Para a rotulação, utiliza-se uma variável tipo _long_, já que é a que mais se aproxima de 24 bits. Utilza-se operações _bitwise_ para que a contagem com as três componentes seja feita de forma correta.\n",
    "\n",
    "O resultado do progama encontra-se abaixo."
   ]
  },
  {
   "cell_type": "code",
   "execution_count": null,
   "metadata": {
    "collapsed": true
   },
   "outputs": [],
   "source": [
    "#include <iostream>\n",
    "#include <opencv2/opencv.hpp>\n",
    "\n",
    "using namespace cv;\n",
    "using namespace std;\n",
    "\n",
    "int main(int argc, char** argv){\n",
    "\n",
    "  Mat image, mask;\n",
    "  int width, height;\n",
    "    \n",
    "  // Variaveis para contagem de buracos e objetos\n",
    "  // nobjects tambem e usada para diferenciar cada objeto pelas componentes BGR\n",
    "    \n",
    "  unsigned long int nobjects=0; \n",
    "  unsigned long nburacos=0;\n",
    "\n",
    "  image = imread(argv[1],CV_LOAD_IMAGE_COLOR);\n",
    "  \n",
    "  if(!image.data){\n",
    "    std::cout << \"Imagem nao carregou corretamente!\\n\";\n",
    "    return(-1);\n",
    "  }\n",
    "\n",
    "  width=image.size().width;\n",
    "  height=image.size().height;\n",
    "  Vec3b white (255,255,255);\n",
    "  Vec3b black (0,0,0);\n",
    "  // Vetor de auxilio na contagem\n",
    "  Vec3b label;\n",
    "\n",
    "  // Eliminar obejtos nas bordas \n",
    "  image.row(0) = white;\n",
    "  image.row(height-1) = white;  \n",
    "  image.col(width-1) = white;\n",
    "  image.col(0) = white;\n",
    "  floodFill(image,CvPoint(0,0),black);\n",
    "  // Pintar o fundo com BGR=253,255,255 para diferneciar dos buracos\n",
    "  floodFill(image,CvPoint(0,0),Vec3b(253,255,255));\n",
    "\n",
    "  // loop para testar cada pixel\n",
    "  for(int i=0; i<height; i++){\n",
    "    for(int j=0; j<width; j++){\n",
    "      \n",
    "\n",
    "      if(image.at<Vec3b>(i,j) == white){\n",
    "      // achou um objeto\n",
    "              nobjects++;\n",
    "              // Separa cada bloco de byte do contador para uma componente\n",
    "              label[0] = (nobjects & 0x000000FF);\n",
    "              label[1] = (nobjects & 0x0000FF00) >> 8;\n",
    "              label[2] = (nobjects & 0x00FF0000) >> 16;\n",
    "        floodFill(image,CvPoint(j,i),label);\n",
    "      }\n",
    "\n",
    "\n",
    "      if((image.at<Vec3b>(i,j) == black)){\n",
    "      // achou um buraco\n",
    "              nburacos++;\n",
    "        // Pinta com BGR = 254,255,255 para nao contar o buraco duas vezes\n",
    "        floodFill(image,CvPoint(j,i),Vec3b(254,255,255));    \n",
    "      }\n",
    "         \n",
    "     }\n",
    "   }\n",
    "\n",
    "  cout << \"Existem \" << nobjects << \" objetos, sendo \" << nburacos \n",
    "  << \" com buracos e \"\n",
    "  << nobjects - nburacos << \" sem.\" << endl; \n",
    "\n",
    "\n",
    "  imshow(\"image\", image);\n",
    "  imwrite(\"image_labeled.png\", image);\n",
    "  waitKey();\n",
    "  return 0;  \n",
    "}"
   ]
  },
  {
   "cell_type": "markdown",
   "metadata": {},
   "source": [
    "#### Original:\n",
    "\n",
    "![a](bolhas.png)\n",
    "\n",
    "\n",
    "#### Resultado:\n",
    "\n",
    "![b](image_labeled.png)\n",
    "\n",
    "Foram encontrados 21 objetos, dos quais 7 têm buracos."
   ]
  },
  {
   "cell_type": "code",
   "execution_count": null,
   "metadata": {
    "collapsed": true
   },
   "outputs": [],
   "source": []
  }
 ],
 "metadata": {
  "kernelspec": {
   "display_name": "Python 3",
   "language": "python",
   "name": "python3"
  },
  "language_info": {
   "codemirror_mode": {
    "name": "ipython",
    "version": 3
   },
   "file_extension": ".py",
   "mimetype": "text/x-python",
   "name": "python",
   "nbconvert_exporter": "python",
   "pygments_lexer": "ipython3",
   "version": "3.4.5"
  }
 },
 "nbformat": 4,
 "nbformat_minor": 2
}
